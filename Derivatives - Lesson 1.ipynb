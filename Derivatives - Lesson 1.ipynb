{
 "cells": [
  {
   "cell_type": "markdown",
   "metadata": {},
   "source": [
    "<h2>A Practical Introduction to Numerical Methods </h2>\n",
    "\n",
    "Hello everyone, my name is Kaleb Huneau and I will be writing a series of notebooks that will be used alongside my video tutorials on youtube. This is a free, open source introduction to numerical methods that may be helpful for exam preparation or for anyone who wants to start working with data in python! \n",
    "\n",
    "If anyone is interested, I am a student in Mechanical Engineering at Queen's University and I am also available for private or group tutoring. You can contact me at krhuneau@gmail.com\n",
    "\n",
    "This guide will walk you through a series of notes, example problems, and practice problems for numerical differentiation, root solving, integration, ODE solving, and more. \n",
    "\n",
    "#### This is lesson 1: Numerical Differentiation."
   ]
  },
  {
   "cell_type": "markdown",
   "metadata": {},
   "source": [
    "<h3>Numerical Differentiation</h3>\n",
    "\n",
    "Being able to take the derivative of functions is very useful in optimization for finding a maximum or minimum of a function. Sometimes, a function might be too complicated or just too annoying to find an analytical derivative. This is where numerical derivatives can swoop in and save you a lot of effort.\n",
    "\n",
    "All numerical approximations of derivatives will be based around the definition of the derivative:\n",
    "    <img src = \"Derivative_Definition.png\" style=\"width:200px;height:70px;\">\n",
    "You have likely seen this definition in your high school class which introduced you to differentiation. \n",
    "There are three formulas used for numerical differentiation, the forward, backward, and centred difference.\n",
    "<img src = \"Derivative_Formulas.png\" style=\"width:300px;height:130px;\">\n",
    "The one you have seen above is the forward difference equation. To explain how each one works, lets choose a function $f(x) = x^2$, an x value $x=2$, and an h-value $h=0.01$. In forward difference, the point that you are finding the derivative for is x. This formula takes the function at $x+h$, then subtracts the value of the function at $x$. This value is divided by $h$ which gives the slope at that point. \n",
    "\n",
    "\n",
    "Next is the backward difference which uses the function at $x$ and subtracts the function behind it $x-h$.\n",
    "\n",
    "Finally, we have the centred difference which takes the function at $x+h$, then subtracts the function at $x-h$ and averages this out over $2h$\n",
    "\n",
    "\n",
    "From here, a small size is chosen for h, and the derivative will be approximated. Here is an example of a function in python:"
   ]
  },
  {
   "cell_type": "code",
   "execution_count": 29,
   "metadata": {},
   "outputs": [],
   "source": [
    "#import some libraries:\n",
    "import numpy as np\n",
    "import matplotlib.pyplot as plt"
   ]
  },
  {
   "cell_type": "code",
   "execution_count": 42,
   "metadata": {},
   "outputs": [],
   "source": [
    "#visualization functions (dont worry about this, its just for me to help show you how the formulas work)\n",
    "def points(xy): #input is a 2d array of x and y points\n",
    "    for i in xy:\n",
    "        plt.scatter(i[0],i[1])\n",
    "    return"
   ]
  },
  {
   "cell_type": "code",
   "execution_count": 43,
   "metadata": {},
   "outputs": [],
   "source": [
    "#Define a function to differentiate\n",
    "def f(x):\n",
    "    y = x**2\n",
    "    return y\n",
    "\n",
    "def forward_diff(f, x, h):      #The input is the function and the point which you would like to derive\n",
    "    return (f(x + h) - f(x))/h\n",
    "\n",
    "def backward_diff(f,x,h):\n",
    "    return (f(x)-f(x-h))/h\n",
    "\n",
    "def cent_diff(f,x,h):\n",
    "    return (f(x+h)-f(x-h))/(2*h)"
   ]
  },
  {
   "cell_type": "code",
   "execution_count": 46,
   "metadata": {},
   "outputs": [
    {
     "name": "stdout",
     "output_type": "stream",
     "text": [
      "Forward Difference: 6.009999999999849\n",
      "Backward Difference: 5.989999999999895\n",
      "Centred Difference: 5.999999999999872\n"
     ]
    }
   ],
   "source": [
    "# Find the numerical derivatives with different formulas\n",
    "x = 3\n",
    "h = 0.01\n",
    "\n",
    "#lets check the derivative at x = 3 with a really small value of h\n",
    "print(\"Forward Difference:\",forward_diff(f,x,h))\n",
    "print(\"Backward Difference:\",backward_diff(f,x,h))\n",
    "print(\"Centred Difference:\",cent_diff(f,x,h))"
   ]
  },
  {
   "cell_type": "markdown",
   "metadata": {},
   "source": [
    "As you can see, we succesfully used our formula to make an approximation of the derivative. You can also see the error in the solution since the analytical answer should just be 6. "
   ]
  },
  {
   "cell_type": "code",
   "execution_count": 58,
   "metadata": {},
   "outputs": [
    {
     "data": {
      "image/png": "[encoded data removed]",
      "text/plain": [
       "<Figure size 432x288 with 1 Axes>"
      ]
     },
     "metadata": {
      "needs_background": "light"
     },
     "output_type": "display_data"
    }
   ],
   "source": [
    "#Visual explanation of how the formulas work\n",
    "x_vals = np.linspace(2.96,3.04,10)\n",
    "y_vals = f(x_vals)\n",
    "xy = [[x-h,f(x-h)],[x,f(x)],[x+h,f(x+h)]]\n",
    "\n",
    "plt.plot(x_vals,y_vals)\n",
    "points(xy)"
   ]
  },
  {
   "cell_type": "markdown",
   "metadata": {},
   "source": [
    "<h4>Error in the Derivative</h4>\n",
    "<p style = \"color:red\">Probably good to know but not super important</p>\n",
    "It turns out that numerical methods are not perfect and there is an error associated with the fact that we are approximating a tangent line with a very small secant. There is also error in floating point numbers which can become a problem if we choose h to be too small.\n",
    "\n",
    "Lets take a look at how different h-values can affect the output of our derivative.\n"
   ]
  },
  {
   "cell_type": "code",
   "execution_count": 24,
   "metadata": {},
   "outputs": [
    {
     "name": "stdout",
     "output_type": "stream",
     "text": [
      "h-value: 1e-05 \n",
      "derivative: 6.000009999951316\n",
      "h-value: 1.0000000000000002e-06 \n",
      "derivative: 6.0000010009275675\n",
      "h-value: 1.0000000000000002e-07 \n",
      "derivative: 6.000000087880152\n",
      "h-value: 1.0000000000000002e-08 \n",
      "derivative: 5.999999963535173\n",
      "h-value: 1.0000000000000003e-09 \n",
      "derivative: 6.000000496442224\n",
      "h-value: 1.0000000000000003e-10 \n",
      "derivative: 6.000000496442224\n",
      "h-value: 1.0000000000000003e-11 \n",
      "derivative: 6.000000496442224\n",
      "h-value: 1.0000000000000002e-12 \n",
      "derivative: 6.000533403494045\n",
      "h-value: 1.0000000000000002e-13 \n",
      "derivative: 6.004086117172846\n",
      "h-value: 1.0000000000000002e-14 \n",
      "derivative: 6.217248937900876\n",
      "h-value: 1e-15 \n",
      "derivative: 5.329070518200751\n",
      "h-value: 1.0000000000000001e-16 \n",
      "derivative: 0.0\n",
      "As you can see, there is an optimal number for h where it is neither too small or too large.\n"
     ]
    }
   ],
   "source": [
    "#demonstration for error when h is too small\n",
    "h = 0.0001\n",
    "x = 3\n",
    "\n",
    "for i in range(12):\n",
    "    h /= 10\n",
    "    print(\"h-value:\",h,\"\\nderivative:\",derivative(func,x,h))\n",
    "print(\"As you can see, there is an optimal number for h where it is neither too small or too large.\")\n",
    "\n"
   ]
  },
  {
   "cell_type": "markdown",
   "metadata": {},
   "source": [
    "<h3>Without a Function</h3>\n",
    "<p>Sometimes when you are given a problem where you need to find the derivative, you are not given a function such as f(x) = x^2. Instead you may be given a set of data and you need to use to points you were given  </p>\n",
    "When you use a set of data, you dont have to pick a value for h because it is already implicitly defined as the distance between x-values. Lets work through this example where we have some x and y values in a table.\n",
    "\n",
    "| Point | x | y |\n",
    "| --- | --- | --- |\n",
    "| 1 | 1.00 | .66 |\n",
    "| 2 | 1.03 | .84 |\n",
    "| 3 | 1.07 | .93 |\n",
    "| 4 | 1.16 | .95 |\n",
    "| 5 | 1.36 | .92 |\n",
    "| 6 | 1.90 | .71 |\n",
    "\n",
    "\n",
    "\n",
    "\n",
    "\n",
    "\n"
   ]
  },
  {
   "cell_type": "code",
   "execution_count": 60,
   "metadata": {
    "slideshow": {
     "slide_type": "subslide"
    }
   },
   "outputs": [
    {
     "data": {
      "text/plain": [
       "<matplotlib.collections.PathCollection at 0x7fcc0ada3d50>"
      ]
     },
     "execution_count": 60,
     "metadata": {},
     "output_type": "execute_result"
    },
    {
     "data": {
      "image/png": "[encoded data removed]",
      "text/plain": [
       "<Figure size 432x288 with 1 Axes>"
      ]
     },
     "metadata": {
      "needs_background": "light"
     },
     "output_type": "display_data"
    }
   ],
   "source": [
    "x = np.array([1.00,1.03,1.07,1.16,1.36,1.90])\n",
    "y = np.array([.66,.84,.93,.95,.92,.71])\n",
    "\n",
    "plt.scatter(x,y)"
   ]
  },
  {
   "cell_type": "code",
   "execution_count": 61,
   "metadata": {},
   "outputs": [
    {
     "name": "stdout",
     "output_type": "stream",
     "text": [
      "5.999999999999993\n",
      "5.999999999999993\n",
      "3.857142857142854\n"
     ]
    }
   ],
   "source": [
    "def slope(x1,x2,y1,y2):\n",
    "    m = (y2-y1)/(x2-x1)\n",
    "    return m\n",
    "#forward difference\n",
    "print(slope(x[0],x[1],y[0],y[1]))\n",
    "\n",
    "#backward difference\n",
    "print(slope(x[1],x[0],y[1],y[0]))\n",
    "\n",
    "#centred difference\n",
    "print(slope(x[2],x[0],y[2],y[0]))\n",
    "\n",
    "\n"
   ]
  }
 ],
 "metadata": {
  "kernelspec": {
   "display_name": "Python 3",
   "language": "python",
   "name": "python3"
  },
  "language_info": {
   "codemirror_mode": {
    "name": "ipython",
    "version": 3
   },
   "file_extension": ".py",
   "mimetype": "text/x-python",
   "name": "python",
   "nbconvert_exporter": "python",
   "pygments_lexer": "ipython3",
   "version": "3.8.3"
  }
 },
 "nbformat": 4,
 "nbformat_minor": 4
}
